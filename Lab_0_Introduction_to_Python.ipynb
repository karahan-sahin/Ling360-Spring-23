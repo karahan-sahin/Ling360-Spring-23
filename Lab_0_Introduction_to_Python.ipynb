{
  "cells": [
    {
      "cell_type": "markdown",
      "metadata": {
        "id": "view-in-github",
        "colab_type": "text"
      },
      "source": [
        "<a href=\"https://colab.research.google.com/github/karahan-sahin/Ling360-Spring-23/blob/master/Lab_0_Introduction_to_Python.ipynb\" target=\"_parent\"><img src=\"https://colab.research.google.com/assets/colab-badge.svg\" alt=\"Open In Colab\"/></a>"
      ]
    },
    {
      "cell_type": "markdown",
      "id": "0f5deb5e-455e-4f6f-a90a-d24cb2570d49",
      "metadata": {
        "tags": [],
        "id": "0f5deb5e-455e-4f6f-a90a-d24cb2570d49"
      },
      "source": [
        "# Lab 0 - Introduction to Python\n",
        "\n",
        "Welcome to LING360! \n",
        "\n",
        "\n",
        "Python is a great general-purpose programming language on its own, but with the help of a few popular libraries (numpy, scipy, matplotlib) it becomes a powerful environment for scientific computing.\n",
        "\n",
        "<br>\n",
        "\n",
        "**We will use Python (version 3) in LING360 because:**\n",
        "\n",
        "*   Python has an easy to learn syntax\n",
        "*   Most NLP programs are written in Python\n",
        "*   There are a lot of readily available packages for use\n",
        "*   Majority of Machine Learning / Deep Learning tools are built with Python \n",
        "\n",
        "<br>\n",
        "\n",
        "Today we will cover:\n",
        "\n",
        "- Variables & Basic Data Types (*Number, String, Boolean*)\n",
        "- Printing and Fancy Printing\n",
        "- Python Syntax (`object.method()` or `function(object)`)\n",
        "- Automation\n",
        "- Conditionals \n",
        "\n",
        "<br>\n",
        "\n",
        "If you have any questions, you can send an email to karahan.sahin@boun.edu.tr\n"
      ]
    },
    {
      "cell_type": "markdown",
      "id": "418b30f1-307d-481e-917a-cf7144996a15",
      "metadata": {
        "id": "418b30f1-307d-481e-917a-cf7144996a15"
      },
      "source": [
        "## 1. Writing Our First Line of Code\n",
        "\n",
        "This is a long-coming tradition of programming. We will be printing \"Hello World!\" to the output console!"
      ]
    },
    {
      "cell_type": "code",
      "execution_count": null,
      "id": "3260be8e-e237-4b6e-84dd-a967adc20cce",
      "metadata": {
        "id": "3260be8e-e237-4b6e-84dd-a967adc20cce"
      },
      "outputs": [],
      "source": [
        "print(\"Hello World!\")"
      ]
    },
    {
      "cell_type": "markdown",
      "id": "2aca44ce-e02e-45ed-995b-af4dc7ed8be0",
      "metadata": {
        "id": "2aca44ce-e02e-45ed-995b-af4dc7ed8be0"
      },
      "source": [
        "## Lab Material\n",
        "\n",
        "Python is basically a fancy calculator. You can print out stuff, you can also just do math or logic."
      ]
    },
    {
      "cell_type": "markdown",
      "id": "ddcb5abe-bf38-48d3-8fb0-a2ea35e859f8",
      "metadata": {
        "id": "ddcb5abe-bf38-48d3-8fb0-a2ea35e859f8"
      },
      "source": [
        "## Strings"
      ]
    },
    {
      "cell_type": "code",
      "execution_count": null,
      "id": "b2268499-577e-4da1-96d1-aa8f1f0203c7",
      "metadata": {
        "colab": {
          "base_uri": "https://localhost:8080/",
          "height": 35
        },
        "id": "b2268499-577e-4da1-96d1-aa8f1f0203c7",
        "outputId": "cae6285a-93d0-49eb-b82f-805c000f81bb"
      },
      "outputs": [
        {
          "data": {
            "application/vnd.google.colaboratory.intrinsic+json": {
              "type": "string"
            },
            "text/plain": [
              "'Yade'"
            ]
          },
          "execution_count": 4,
          "metadata": {},
          "output_type": "execute_result"
        }
      ],
      "source": [
        "\"Yade\""
      ]
    },
    {
      "cell_type": "code",
      "execution_count": null,
      "id": "25e174ff-ea41-421e-a7d2-b1e5b6c5a5b1",
      "metadata": {
        "id": "25e174ff-ea41-421e-a7d2-b1e5b6c5a5b1"
      },
      "outputs": [],
      "source": [
        "# And If you put \"hashtag\" before it\n",
        "# It will not do anything since they are comands."
      ]
    },
    {
      "cell_type": "code",
      "execution_count": null,
      "id": "75da2692-a721-49f4-886b-f3897fd4f598",
      "metadata": {
        "colab": {
          "base_uri": "https://localhost:8080/"
        },
        "id": "75da2692-a721-49f4-886b-f3897fd4f598",
        "outputId": "14e4a7f2-5595-450f-dd42-1c7a83ce60b2"
      },
      "outputs": [
        {
          "name": "stdout",
          "output_type": "stream",
          "text": [
            "Yade\n"
          ]
        }
      ],
      "source": [
        "# or \n",
        "print(\"Yoda\")"
      ]
    },
    {
      "cell_type": "markdown",
      "id": "6c54bcdb-2426-48ea-b5f6-ae9b1c017fb5",
      "metadata": {
        "id": "6c54bcdb-2426-48ea-b5f6-ae9b1c017fb5"
      },
      "source": [
        "## Numbers"
      ]
    },
    {
      "cell_type": "code",
      "execution_count": null,
      "id": "9bd0f9ea-8376-409c-877a-ec5625e7b8ce",
      "metadata": {
        "colab": {
          "base_uri": "https://localhost:8080/"
        },
        "id": "9bd0f9ea-8376-409c-877a-ec5625e7b8ce",
        "outputId": "e9243c54-344f-4c64-bdb6-6bb38b61d920"
      },
      "outputs": [
        {
          "data": {
            "text/plain": [
              "52192"
            ]
          },
          "execution_count": 6,
          "metadata": {},
          "output_type": "execute_result"
        }
      ],
      "source": [
        "# plus\n",
        "52191+1 "
      ]
    },
    {
      "cell_type": "code",
      "execution_count": null,
      "id": "25f6a1a2-09f1-4845-9153-0fab5e4f3306",
      "metadata": {
        "colab": {
          "base_uri": "https://localhost:8080/"
        },
        "id": "25f6a1a2-09f1-4845-9153-0fab5e4f3306",
        "outputId": "1eb0c6c7-553b-4573-d070-162bd1457aed"
      },
      "outputs": [
        {
          "data": {
            "text/plain": [
              "26095.5"
            ]
          },
          "execution_count": 3,
          "metadata": {},
          "output_type": "execute_result"
        }
      ],
      "source": [
        "# division\n",
        "52191/2"
      ]
    },
    {
      "cell_type": "code",
      "execution_count": null,
      "id": "558d2f3e-caec-4e01-8098-6777d446088a",
      "metadata": {
        "colab": {
          "base_uri": "https://localhost:8080/"
        },
        "id": "558d2f3e-caec-4e01-8098-6777d446088a",
        "outputId": "3b79946c-27f7-4c2d-d84a-b6fccdea8a7b"
      },
      "outputs": [
        {
          "data": {
            "text/plain": [
              "26095"
            ]
          },
          "execution_count": 2,
          "metadata": {},
          "output_type": "execute_result"
        }
      ],
      "source": [
        "# floor division\n",
        "52191//2"
      ]
    },
    {
      "cell_type": "code",
      "execution_count": null,
      "id": "d9c94ca3-0b08-4fbe-a7cf-dfad0332b1c9",
      "metadata": {
        "colab": {
          "base_uri": "https://localhost:8080/"
        },
        "id": "d9c94ca3-0b08-4fbe-a7cf-dfad0332b1c9",
        "outputId": "f2a3a0b6-bff0-4c3a-d8e2-78b961ff8107"
      },
      "outputs": [
        {
          "data": {
            "text/plain": [
              "False"
            ]
          },
          "execution_count": 8,
          "metadata": {},
          "output_type": "execute_result"
        }
      ],
      "source": [
        "True and False"
      ]
    },
    {
      "cell_type": "markdown",
      "id": "46e9041a-3788-4bfa-a336-3a482823fed6",
      "metadata": {
        "id": "46e9041a-3788-4bfa-a336-3a482823fed6"
      },
      "source": [
        "You can also go one level more abstract. Instead of directly using a specific string or number, you can use a **variable** name. "
      ]
    },
    {
      "cell_type": "code",
      "execution_count": null,
      "id": "d24e3711-cc74-4e14-be3a-eaeeaeb863a7",
      "metadata": {
        "id": "d24e3711-cc74-4e14-be3a-eaeeaeb863a7"
      },
      "outputs": [],
      "source": [
        "interesting_number = 52191"
      ]
    },
    {
      "cell_type": "markdown",
      "id": "d515a080-55fc-44e7-80c1-57516d61fc43",
      "metadata": {
        "id": "d515a080-55fc-44e7-80c1-57516d61fc43"
      },
      "source": [
        "Now whenever I use the name `interesting_number`, it will use `52191`."
      ]
    },
    {
      "cell_type": "code",
      "execution_count": null,
      "id": "938eb13f-45b1-4231-ad68-9272f183a4df",
      "metadata": {
        "colab": {
          "base_uri": "https://localhost:8080/"
        },
        "id": "938eb13f-45b1-4231-ad68-9272f183a4df",
        "outputId": "fd462149-d3e5-4a18-eabb-4242282b69a9"
      },
      "outputs": [
        {
          "data": {
            "text/plain": [
              "5219100"
            ]
          },
          "execution_count": 10,
          "metadata": {},
          "output_type": "execute_result"
        }
      ],
      "source": [
        "interesting_number * 100"
      ]
    },
    {
      "cell_type": "markdown",
      "id": "760ec346-addc-4ae0-a566-fcb034f27928",
      "metadata": {
        "id": "760ec346-addc-4ae0-a566-fcb034f27928"
      },
      "source": [
        "It is also possible for strings:"
      ]
    },
    {
      "cell_type": "code",
      "execution_count": null,
      "id": "1ba04366-542e-4252-8530-5d05f311c9f9",
      "metadata": {
        "id": "1ba04366-542e-4252-8530-5d05f311c9f9"
      },
      "outputs": [],
      "source": [
        "interesting_name = \"Yoda\""
      ]
    },
    {
      "cell_type": "code",
      "execution_count": null,
      "id": "8a724d8b-8242-4225-995a-2ff6ecc89635",
      "metadata": {
        "colab": {
          "base_uri": "https://localhost:8080/"
        },
        "id": "8a724d8b-8242-4225-995a-2ff6ecc89635",
        "outputId": "cb61264c-ae5b-48c2-9280-465bd58ff8a3"
      },
      "outputs": [
        {
          "name": "stdout",
          "output_type": "stream",
          "text": [
            "Merhaba Yade\n"
          ]
        }
      ],
      "source": [
        "print(\"Hello\", interesting_name)"
      ]
    },
    {
      "cell_type": "code",
      "execution_count": null,
      "id": "643170ad-84bf-4b29-8bf0-2f3d004bd454",
      "metadata": {
        "colab": {
          "base_uri": "https://localhost:8080/",
          "height": 35
        },
        "id": "643170ad-84bf-4b29-8bf0-2f3d004bd454",
        "outputId": "55472a55-f93b-4a8e-dabb-b7b5c84c0ee0"
      },
      "outputs": [
        {
          "data": {
            "application/vnd.google.colaboratory.intrinsic+json": {
              "type": "string"
            },
            "text/plain": [
              "'Merhaba Yade'"
            ]
          },
          "execution_count": 14,
          "metadata": {},
          "output_type": "execute_result"
        }
      ],
      "source": [
        "\"Hello\" + \" \" + interesting_name"
      ]
    },
    {
      "cell_type": "code",
      "execution_count": null,
      "id": "95d5d0ee-1dcf-4613-9717-65ce309f4531",
      "metadata": {
        "colab": {
          "base_uri": "https://localhost:8080/"
        },
        "id": "95d5d0ee-1dcf-4613-9717-65ce309f4531",
        "outputId": "c008d5b6-024b-4b90-8106-911c69713d7a"
      },
      "outputs": [
        {
          "name": "stdout",
          "output_type": "stream",
          "text": [
            "Merhaba Yade\n"
          ]
        }
      ],
      "source": [
        "# Or you can be more fancy:\n",
        "print(f\"Hello {interesting_name}\")"
      ]
    },
    {
      "cell_type": "markdown",
      "id": "e30587b1-acc5-4733-81e4-0f90fd44db7f",
      "metadata": {
        "id": "e30587b1-acc5-4733-81e4-0f90fd44db7f"
      },
      "source": [
        "What you can also do is you can do operations on variables, using certain verbs. (Check list this for more: [W3 Methods](https://www.w3schools.com/python/python_ref_string.asp).)"
      ]
    },
    {
      "cell_type": "code",
      "execution_count": null,
      "id": "aa8f1de9-9eed-4cfa-8c39-a80887dee8b8",
      "metadata": {
        "colab": {
          "base_uri": "https://localhost:8080/",
          "height": 35
        },
        "id": "aa8f1de9-9eed-4cfa-8c39-a80887dee8b8",
        "outputId": "4b57b62b-e00f-463b-a27b-95d79bf5650b"
      },
      "outputs": [
        {
          "data": {
            "application/vnd.google.colaboratory.intrinsic+json": {
              "type": "string"
            },
            "text/plain": [
              "'YADE'"
            ]
          },
          "execution_count": 16,
          "metadata": {},
          "output_type": "execute_result"
        }
      ],
      "source": [
        "interesting_name.upper()"
      ]
    },
    {
      "cell_type": "markdown",
      "id": "74ab2583-2415-459c-bb90-1db35e9986f5",
      "metadata": {
        "id": "74ab2583-2415-459c-bb90-1db35e9986f5"
      },
      "source": [
        "You can also use this in other functions like `print()`."
      ]
    },
    {
      "cell_type": "code",
      "execution_count": null,
      "id": "118ded76-6258-44f7-b5ff-80bca41a444f",
      "metadata": {
        "colab": {
          "base_uri": "https://localhost:8080/"
        },
        "id": "118ded76-6258-44f7-b5ff-80bca41a444f",
        "outputId": "1b72dfe5-0ecf-4659-faa9-ed8c90ca721b"
      },
      "outputs": [
        {
          "name": "stdout",
          "output_type": "stream",
          "text": [
            "YADE yapma!\n"
          ]
        }
      ],
      "source": [
        "print(interesting_name.upper(), \"yapma!\")"
      ]
    },
    {
      "cell_type": "markdown",
      "id": "4450125b-3617-43ec-8681-91de666a486e",
      "metadata": {
        "id": "4450125b-3617-43ec-8681-91de666a486e"
      },
      "source": [
        "Or you can create a new variable:"
      ]
    },
    {
      "cell_type": "code",
      "execution_count": null,
      "id": "561c9ebf-511e-491e-b201-1a603390a666",
      "metadata": {
        "colab": {
          "base_uri": "https://localhost:8080/"
        },
        "id": "561c9ebf-511e-491e-b201-1a603390a666",
        "outputId": "ba0fe27a-4a9a-49dd-e090-70ce32005d34"
      },
      "outputs": [
        {
          "name": "stdout",
          "output_type": "stream",
          "text": [
            "YADE yapma!\n"
          ]
        }
      ],
      "source": [
        "interesting_name_caps = interesting_name.upper()\n",
        "\n",
        "print(f\"{interesting_name_caps} yapma!\")"
      ]
    },
    {
      "cell_type": "markdown",
      "id": "b8f8cb16-e1f0-474f-9e56-5da69c810b7d",
      "metadata": {
        "id": "b8f8cb16-e1f0-474f-9e56-5da69c810b7d"
      },
      "source": [
        "What if you have more than one person to get angry?\n",
        "\n",
        "You can put all of the culprits into one single container, in this case a `list`. And, then you can refer to them according to the positions in the list. "
      ]
    },
    {
      "cell_type": "code",
      "execution_count": null,
      "id": "0500c959-eb3a-4d5e-a891-ba112464acf9",
      "metadata": {
        "id": "0500c959-eb3a-4d5e-a891-ba112464acf9"
      },
      "outputs": [],
      "source": [
        "culprits = [\"Yade\", \"Erce\", \"Oya\"]"
      ]
    },
    {
      "cell_type": "code",
      "execution_count": null,
      "id": "6f979ae2-b2f1-4f57-9a9c-8373a3136730",
      "metadata": {
        "colab": {
          "base_uri": "https://localhost:8080/"
        },
        "id": "6f979ae2-b2f1-4f57-9a9c-8373a3136730",
        "outputId": "362f08e5-288f-4180-ce58-9b7cfddbb836"
      },
      "outputs": [
        {
          "name": "stdout",
          "output_type": "stream",
          "text": [
            "Yade yapma!\n",
            "Erce yapma!\n",
            "Oya yapma!\n"
          ]
        }
      ],
      "source": [
        "print(f\"{culprits[0]} yapma!\")\n",
        "print(f\"{culprits[1]} yapma!\")\n",
        "print(f\"{culprits[2]} yapma!\")"
      ]
    },
    {
      "cell_type": "markdown",
      "id": "653f54f6-f248-4913-b515-1622cd44db2e",
      "metadata": {
        "id": "653f54f6-f248-4913-b515-1622cd44db2e"
      },
      "source": [
        "We can also access `strings` in the same manner since, they are one single container of letters."
      ]
    },
    {
      "cell_type": "code",
      "execution_count": null,
      "id": "45a47336-6423-475a-8dfd-7006be08bdab",
      "metadata": {
        "id": "45a47336-6423-475a-8dfd-7006be08bdab"
      },
      "outputs": [],
      "source": [
        "interesting_string = \"Yoda\""
      ]
    },
    {
      "cell_type": "code",
      "execution_count": null,
      "id": "1101c324-e8a5-43ee-9146-d1112285db14",
      "metadata": {
        "colab": {
          "base_uri": "https://localhost:8080/"
        },
        "id": "1101c324-e8a5-43ee-9146-d1112285db14",
        "outputId": "ca1671a5-c0ba-44b3-f1f3-04703e25604e"
      },
      "outputs": [
        {
          "name": "stdout",
          "output_type": "stream",
          "text": [
            "Y\n",
            "o\n",
            "d\n",
            "a\n"
          ]
        }
      ],
      "source": [
        "print(f\"{interesting_string[0]}\")\n",
        "print(f\"{interesting_string[1]}\")\n",
        "print(f\"{interesting_string[2]}\")\n",
        "print(f\"{interesting_string[3]}\")"
      ]
    },
    {
      "cell_type": "markdown",
      "id": "9bbfd63d-4961-4e25-b877-716f380c6d69",
      "metadata": {
        "id": "9bbfd63d-4961-4e25-b877-716f380c6d69"
      },
      "source": [
        "What if you have just too many items to go one by one?"
      ]
    },
    {
      "cell_type": "code",
      "execution_count": null,
      "id": "c5d378c6-f073-4113-8977-db6cde6b0a16",
      "metadata": {
        "colab": {
          "base_uri": "https://localhost:8080/"
        },
        "id": "c5d378c6-f073-4113-8977-db6cde6b0a16",
        "outputId": "9c8048f9-30e0-45de-b068-738656895de5"
      },
      "outputs": [
        {
          "name": "stdout",
          "output_type": "stream",
          "text": [
            "Yade yapma!\n",
            "Erce yapma!\n",
            "Oya yapma!\n"
          ]
        }
      ],
      "source": [
        "for culprit in culprits:\n",
        "  print(f\"{culprit} yapma!\")"
      ]
    },
    {
      "cell_type": "markdown",
      "id": "fc04a730-16af-423b-832e-b0cf3846dbde",
      "metadata": {
        "id": "fc04a730-16af-423b-832e-b0cf3846dbde"
      },
      "source": [
        "What we do is that we access each item in a container one by one.\n",
        "\n",
        "Another way to access to each item is to go over all positions, which are also called `indices` in a container."
      ]
    },
    {
      "cell_type": "code",
      "execution_count": null,
      "id": "8f8c4b55-a981-4285-bc53-a54acb16ec87",
      "metadata": {
        "id": "8f8c4b55-a981-4285-bc53-a54acb16ec87"
      },
      "outputs": [],
      "source": [
        "culprit_positions = [0,1,2]"
      ]
    },
    {
      "cell_type": "code",
      "execution_count": null,
      "id": "1c3e5a47-cc96-4480-b11c-8b001d9a22c9",
      "metadata": {
        "colab": {
          "base_uri": "https://localhost:8080/"
        },
        "id": "1c3e5a47-cc96-4480-b11c-8b001d9a22c9",
        "outputId": "cad8e9a6-d624-40dc-8031-7c8b5071a472"
      },
      "outputs": [
        {
          "name": "stdout",
          "output_type": "stream",
          "text": [
            "Yade yapma!\n",
            "Erce yapma!\n",
            "Oya yapma!\n"
          ]
        }
      ],
      "source": [
        "for position in culprit_positions:\n",
        "  print(f\"{culprits[position]} yapma!\")"
      ]
    },
    {
      "cell_type": "markdown",
      "id": "ee0bbcee-bbb7-4c74-b31c-996c56bd13a9",
      "metadata": {
        "id": "ee0bbcee-bbb7-4c74-b31c-996c56bd13a9"
      },
      "source": [
        "So, we can do same with strings!"
      ]
    },
    {
      "cell_type": "code",
      "execution_count": null,
      "id": "9965a8bd-75fb-4128-9547-4feee0c769ca",
      "metadata": {
        "id": "9965a8bd-75fb-4128-9547-4feee0c769ca"
      },
      "outputs": [],
      "source": [
        "interesting_string_positions = [0,1,2,3]"
      ]
    },
    {
      "cell_type": "code",
      "execution_count": null,
      "id": "3f8a4d1a-cd67-440e-ae0e-244814ffbddb",
      "metadata": {
        "colab": {
          "base_uri": "https://localhost:8080/"
        },
        "id": "3f8a4d1a-cd67-440e-ae0e-244814ffbddb",
        "outputId": "f44b4de3-4814-47fb-ed2f-2f5ceace6cb4"
      },
      "outputs": [
        {
          "name": "stdout",
          "output_type": "stream",
          "text": [
            "Y\n",
            "o\n",
            "d\n",
            "a\n"
          ]
        }
      ],
      "source": [
        "for position in interesting_string_positions:\n",
        "  print(f\"{interesting_string[position]}\")"
      ]
    },
    {
      "cell_type": "markdown",
      "id": "48e5a8f9-9d7f-4150-b8ea-f4adb6c645b7",
      "metadata": {
        "id": "48e5a8f9-9d7f-4150-b8ea-f4adb6c645b7"
      },
      "source": [
        "One additional note that the positions can be also found in reverse order\n",
        "<br>\n",
        "<img src=\"https://media.geeksforgeeks.org/wp-content/uploads/20191220092949/slice.jpg\">"
      ]
    },
    {
      "cell_type": "code",
      "execution_count": null,
      "id": "1c3fdcd1-cc48-4337-a1b0-371a13913ef1",
      "metadata": {
        "id": "1c3fdcd1-cc48-4337-a1b0-371a13913ef1"
      },
      "outputs": [],
      "source": [
        "interesting_string_positions = [-1,-2,-3,-4]"
      ]
    },
    {
      "cell_type": "code",
      "execution_count": null,
      "id": "465e803b-87e5-4d9f-8760-8f5a7ed70cb8",
      "metadata": {
        "colab": {
          "base_uri": "https://localhost:8080/"
        },
        "id": "465e803b-87e5-4d9f-8760-8f5a7ed70cb8",
        "outputId": "ac0e0bcf-8913-4838-f5f7-da53d2b7d2ac"
      },
      "outputs": [
        {
          "name": "stdout",
          "output_type": "stream",
          "text": [
            "a\n",
            "d\n",
            "o\n",
            "Y\n"
          ]
        }
      ],
      "source": [
        "for position in interesting_string_positions:\n",
        "  print(f\"{interesting_string[position]}\")"
      ]
    },
    {
      "cell_type": "markdown",
      "id": "5b98b0ed-cc11-4f2d-a5ff-4ab77f021309",
      "metadata": {
        "id": "5b98b0ed-cc11-4f2d-a5ff-4ab77f021309"
      },
      "source": [
        "# Exercises"
      ]
    },
    {
      "cell_type": "markdown",
      "id": "89a8dccf-ce30-44a3-a620-1b5714525a90",
      "metadata": {
        "id": "89a8dccf-ce30-44a3-a620-1b5714525a90"
      },
      "source": [
        "### TASK 1\n",
        "\n",
        "Assign your name to a variable called `my_name` and print it. \n",
        "\n",
        "You should get something like `Yade` not `\"Yade\"` nor `'Yade'`."
      ]
    },
    {
      "cell_type": "code",
      "execution_count": null,
      "id": "37c9161c-3c26-4485-8350-8a5abd68f59b",
      "metadata": {
        "id": "37c9161c-3c26-4485-8350-8a5abd68f59b"
      },
      "outputs": [],
      "source": []
    },
    {
      "cell_type": "markdown",
      "id": "39ab803b-80ee-4df6-9135-c3d485196c03",
      "metadata": {
        "id": "39ab803b-80ee-4df6-9135-c3d485196c03"
      },
      "source": [
        "### TASK 2\n",
        "\n",
        "Assign your school ID to a variable called `my_boun_id` \n",
        "\n",
        "and\n",
        "\n",
        "print a statement saying that your school ID is 20XXXXXXX using printf."
      ]
    },
    {
      "cell_type": "code",
      "execution_count": null,
      "id": "0fd196d1-3b6d-4e09-a1fc-8c4961cc9e4a",
      "metadata": {
        "id": "0fd196d1-3b6d-4e09-a1fc-8c4961cc9e4a"
      },
      "outputs": [],
      "source": []
    },
    {
      "cell_type": "markdown",
      "id": "c97bd9c8-55e8-4b9b-9da4-3078e0298f2f",
      "metadata": {
        "id": "c97bd9c8-55e8-4b9b-9da4-3078e0298f2f"
      },
      "source": [
        "### TASK 3\n",
        "\n",
        "Apply a different method to your name and school id and print those. (Methods [link text](https://www.w3schools.com/python/python_ref_string.asp))"
      ]
    },
    {
      "cell_type": "code",
      "execution_count": null,
      "id": "538a4d9b-c0c7-4894-8ec3-ada775d1f5d5",
      "metadata": {
        "id": "538a4d9b-c0c7-4894-8ec3-ada775d1f5d5"
      },
      "outputs": [],
      "source": []
    },
    {
      "cell_type": "markdown",
      "id": "357ed1db-de3b-4603-9e1a-572ce917b6ff",
      "metadata": {
        "id": "357ed1db-de3b-4603-9e1a-572ce917b6ff"
      },
      "source": [
        "### TASK 4\n",
        "\n",
        "Assign your surname to a variable called `my_surname`.\n",
        "\n",
        "Put your name and surname into a list called `my_full_name`.\n",
        "\n",
        "Using this list print your initials. \n",
        "\n",
        "You should have a statement like the following:\n",
        "\n",
        "```\n",
        "U\n",
        "T\n",
        "```"
      ]
    },
    {
      "cell_type": "code",
      "execution_count": null,
      "id": "7512917f-a1c0-4e0f-9ab0-6b45d48a9f0c",
      "metadata": {
        "id": "7512917f-a1c0-4e0f-9ab0-6b45d48a9f0c"
      },
      "outputs": [],
      "source": []
    },
    {
      "cell_type": "code",
      "execution_count": null,
      "id": "18d43597-6e2e-4760-80ae-aa564eb92910",
      "metadata": {
        "tags": [],
        "id": "18d43597-6e2e-4760-80ae-aa564eb92910",
        "outputId": "23aeadb4-16a4-4844-9074-8f71efbe3720"
      },
      "outputs": [
        {
          "data": {
            "text/plain": [
              "1"
            ]
          },
          "execution_count": 1,
          "metadata": {},
          "output_type": "execute_result"
        }
      ],
      "source": [
        "1"
      ]
    },
    {
      "cell_type": "code",
      "execution_count": null,
      "id": "5477105a-375d-4ab0-884c-ee362e04361a",
      "metadata": {
        "id": "5477105a-375d-4ab0-884c-ee362e04361a"
      },
      "outputs": [],
      "source": []
    }
  ],
  "metadata": {
    "kernelspec": {
      "display_name": "Python 3 (ipykernel)",
      "language": "python",
      "name": "python3"
    },
    "language_info": {
      "codemirror_mode": {
        "name": "ipython",
        "version": 3
      },
      "file_extension": ".py",
      "mimetype": "text/x-python",
      "name": "python",
      "nbconvert_exporter": "python",
      "pygments_lexer": "ipython3",
      "version": "3.11.2"
    },
    "colab": {
      "provenance": [],
      "include_colab_link": true
    }
  },
  "nbformat": 4,
  "nbformat_minor": 5
}